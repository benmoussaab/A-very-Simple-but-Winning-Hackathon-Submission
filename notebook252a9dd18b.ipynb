{
 "cells": [
  {
   "cell_type": "code",
   "execution_count": 2,
   "metadata": {
    "_cell_guid": "b1076dfc-b9ad-4769-8c92-a6c4dae69d19",
    "_uuid": "8f2839f25d086af736a60e9eeb907d3b93b6e0e5",
    "execution": {
     "iopub.execute_input": "2025-02-05T16:33:29.339878Z",
     "iopub.status.busy": "2025-02-05T16:33:29.339291Z",
     "iopub.status.idle": "2025-02-05T16:33:29.770957Z",
     "shell.execute_reply": "2025-02-05T16:33:29.769762Z",
     "shell.execute_reply.started": "2025-02-05T16:33:29.339837Z"
    },
    "trusted": true
   },
   "outputs": [
    {
     "name": "stdout",
     "output_type": "stream",
     "text": [
      "/kaggle/input/cancerpredictiondataspace/sample_submission.csv\n",
      "/kaggle/input/cancerpredictiondataspace/train.csv\n",
      "/kaggle/input/cancerpredictiondataspace/test.csv\n"
     ]
    }
   ],
   "source": [
    "\n",
    "\n",
    "import numpy as np \n",
    "import pandas as pd \n",
    "\n"
   ]
  },
  {
   "cell_type": "code",
   "execution_count": 51,
   "metadata": {
    "execution": {
     "iopub.execute_input": "2025-02-05T17:04:11.660497Z",
     "iopub.status.busy": "2025-02-05T17:04:11.660103Z",
     "iopub.status.idle": "2025-02-05T17:04:11.665661Z",
     "shell.execute_reply": "2025-02-05T17:04:11.664608Z",
     "shell.execute_reply.started": "2025-02-05T17:04:11.660460Z"
    },
    "trusted": true
   },
   "outputs": [],
   "source": [
    "import pandas as pd\n",
    "from sklearn.model_selection import train_test_split\n",
    "from sklearn.impute import SimpleImputer\n",
    "from sklearn.preprocessing import StandardScaler\n",
    "import category_encoders as ce\n",
    "from xgboost import XGBClassifier\n",
    "pd.set_option('display.max_columns',None)\n",
    "numeric_imputer = SimpleImputer(strategy='mean')\n",
    "from sklearn.preprocessing import StandardScaler\n"
   ]
  },
  {
   "cell_type": "code",
   "execution_count": 130,
   "metadata": {
    "execution": {
     "iopub.execute_input": "2025-02-05T17:36:34.251070Z",
     "iopub.status.busy": "2025-02-05T17:36:34.250698Z",
     "iopub.status.idle": "2025-02-05T17:36:34.265937Z",
     "shell.execute_reply": "2025-02-05T17:36:34.264801Z",
     "shell.execute_reply.started": "2025-02-05T17:36:34.251041Z"
    },
    "trusted": true
   },
   "outputs": [],
   "source": [
    "dft=pd.read_csv(\"/kaggle/input/cancerpredictiondataspace/train.csv\")\n",
    "testt=pd.read_csv(\"/kaggle/input/cancerpredictiondataspace/test.csv\")\n"
   ]
  },
  {
   "cell_type": "code",
   "execution_count": 3,
   "metadata": {
    "execution": {
     "iopub.execute_input": "2025-02-05T16:33:43.434570Z",
     "iopub.status.busy": "2025-02-05T16:33:43.434011Z",
     "iopub.status.idle": "2025-02-05T16:33:43.472153Z",
     "shell.execute_reply": "2025-02-05T16:33:43.471086Z",
     "shell.execute_reply.started": "2025-02-05T16:33:43.434531Z"
    },
    "trusted": true
   },
   "outputs": [],
   "source": [
    "df=pd.read_csv(\"/kaggle/input/cancerpredictiondataspace/train.csv\")\n",
    "test=pd.read_csv(\"/kaggle/input/cancerpredictiondataspace/test.csv\")\n",
    "sample=pd.read_csv(\"/kaggle/input/cancerpredictiondataspace/sample_submission.csv\")"
   ]
  },
  {
   "cell_type": "code",
   "execution_count": 138,
   "metadata": {
    "execution": {
     "iopub.execute_input": "2025-02-05T17:37:57.861882Z",
     "iopub.status.busy": "2025-02-05T17:37:57.861494Z",
     "iopub.status.idle": "2025-02-05T17:37:57.877285Z",
     "shell.execute_reply": "2025-02-05T17:37:57.875869Z",
     "shell.execute_reply.started": "2025-02-05T17:37:57.861847Z"
    },
    "trusted": true
   },
   "outputs": [
    {
     "name": "stderr",
     "output_type": "stream",
     "text": [
      "<ipython-input-138-085ed32f05ec>:1: FutureWarning: Downcasting behavior in `replace` is deprecated and will be removed in a future version. To retain the old behavior, explicitly call `result.infer_objects(copy=False)`. To opt-in to the future behavior, set `pd.set_option('future.no_silent_downcasting', True)`\n",
      "  df = df.replace({\"No\": 0, \"Yes\": 1})\n"
     ]
    }
   ],
   "source": [
    "df = df.replace({\"No\": 0, \"Yes\": 1})\n"
   ]
  },
  {
   "cell_type": "code",
   "execution_count": 142,
   "metadata": {
    "execution": {
     "iopub.execute_input": "2025-02-05T17:38:28.361977Z",
     "iopub.status.busy": "2025-02-05T17:38:28.361570Z",
     "iopub.status.idle": "2025-02-05T17:38:28.373736Z",
     "shell.execute_reply": "2025-02-05T17:38:28.372332Z",
     "shell.execute_reply.started": "2025-02-05T17:38:28.361944Z"
    },
    "trusted": true
   },
   "outputs": [
    {
     "name": "stderr",
     "output_type": "stream",
     "text": [
      "<ipython-input-142-6da6d29fafca>:1: FutureWarning: Downcasting behavior in `replace` is deprecated and will be removed in a future version. To retain the old behavior, explicitly call `result.infer_objects(copy=False)`. To opt-in to the future behavior, set `pd.set_option('future.no_silent_downcasting', True)`\n",
      "  test = test.replace({\"No\": 0, \"Yes\": 1})\n"
     ]
    }
   ],
   "source": [
    "test = test.replace({\"No\": 0, \"Yes\": 1})\n"
   ]
  },
  {
   "cell_type": "code",
   "execution_count": 7,
   "metadata": {
    "execution": {
     "iopub.execute_input": "2025-02-05T16:36:42.133906Z",
     "iopub.status.busy": "2025-02-05T16:36:42.133492Z",
     "iopub.status.idle": "2025-02-05T16:36:42.144196Z",
     "shell.execute_reply": "2025-02-05T16:36:42.142863Z",
     "shell.execute_reply.started": "2025-02-05T16:36:42.133867Z"
    },
    "trusted": true
   },
   "outputs": [],
   "source": [
    "df[[\"Tumor_Size\", \"Positive_Axillary_Nodes\"]] = df[[\"Tumor_Size\", \"Positive_Axillary_Nodes\"]].fillna(df[[\"Tumor_Size\", \"Positive_Axillary_Nodes\"]].median())\n",
    "df['Tumor_Interaction'] = df['Tumor_Size'] * df['Positive_Axillary_Nodes']\n"
   ]
  },
  {
   "cell_type": "code",
   "execution_count": 20,
   "metadata": {
    "execution": {
     "iopub.execute_input": "2025-02-05T16:48:21.880252Z",
     "iopub.status.busy": "2025-02-05T16:48:21.879879Z",
     "iopub.status.idle": "2025-02-05T16:48:21.887912Z",
     "shell.execute_reply": "2025-02-05T16:48:21.886625Z",
     "shell.execute_reply.started": "2025-02-05T16:48:21.880218Z"
    },
    "trusted": true
   },
   "outputs": [],
   "source": [
    "binary_cols = ['Radiation_Therapy', 'Chemotherapy', 'Hormone_Therapy']\n",
    "df['Treatment_Combination'] = df[binary_cols].sum(axis=1)\n"
   ]
  },
  {
   "cell_type": "code",
   "execution_count": 24,
   "metadata": {
    "execution": {
     "iopub.execute_input": "2025-02-05T16:49:41.278988Z",
     "iopub.status.busy": "2025-02-05T16:49:41.278616Z",
     "iopub.status.idle": "2025-02-05T16:49:41.286710Z",
     "shell.execute_reply": "2025-02-05T16:49:41.285659Z",
     "shell.execute_reply.started": "2025-02-05T16:49:41.278956Z"
    },
    "trusted": true
   },
   "outputs": [],
   "source": [
    "binary_colss = ['Radiation_Therapy', 'Chemotherapy', 'Hormone_Therapy']\n",
    "test['Treatment_Combination'] = test[binary_colss].sum(axis=1)\n"
   ]
  },
  {
   "cell_type": "code",
   "execution_count": 8,
   "metadata": {
    "execution": {
     "iopub.execute_input": "2025-02-05T16:37:11.649174Z",
     "iopub.status.busy": "2025-02-05T16:37:11.648787Z",
     "iopub.status.idle": "2025-02-05T16:37:11.658677Z",
     "shell.execute_reply": "2025-02-05T16:37:11.657270Z",
     "shell.execute_reply.started": "2025-02-05T16:37:11.649144Z"
    },
    "trusted": true
   },
   "outputs": [],
   "source": [
    "test[[\"Tumor_Size\", \"Positive_Axillary_Nodes\"]] = test[[\"Tumor_Size\", \"Positive_Axillary_Nodes\"]].fillna(test[[\"Tumor_Size\", \"Positive_Axillary_Nodes\"]].median())\n",
    "\n",
    "test['Tumor_Interaction'] = test['Tumor_Size'] * test['Positive_Axillary_Nodes']\n",
    "\n",
    "scaler = StandardScaler()\n",
    "\n",
    "# Fit and transform the 'Tumor_Interaction' column\n"
   ]
  },
  {
   "cell_type": "code",
   "execution_count": 131,
   "metadata": {
    "execution": {
     "iopub.execute_input": "2025-02-05T17:36:51.432251Z",
     "iopub.status.busy": "2025-02-05T17:36:51.431903Z",
     "iopub.status.idle": "2025-02-05T17:36:51.439781Z",
     "shell.execute_reply": "2025-02-05T17:36:51.438427Z",
     "shell.execute_reply.started": "2025-02-05T17:36:51.432221Z"
    },
    "trusted": true
   },
   "outputs": [],
   "source": []
  },
  {
   "cell_type": "code",
   "execution_count": 9,
   "metadata": {
    "execution": {
     "iopub.execute_input": "2025-02-05T16:39:25.010677Z",
     "iopub.status.busy": "2025-02-05T16:39:25.010274Z",
     "iopub.status.idle": "2025-02-05T16:39:25.015661Z",
     "shell.execute_reply": "2025-02-05T16:39:25.014117Z",
     "shell.execute_reply.started": "2025-02-05T16:39:25.010645Z"
    },
    "trusted": true
   },
   "outputs": [],
   "source": [
    "y = df['Survival_Status']"
   ]
  },
  {
   "cell_type": "code",
   "execution_count": 146,
   "metadata": {
    "execution": {
     "iopub.execute_input": "2025-02-05T17:38:48.462200Z",
     "iopub.status.busy": "2025-02-05T17:38:48.461835Z",
     "iopub.status.idle": "2025-02-05T17:38:48.492807Z",
     "shell.execute_reply": "2025-02-05T17:38:48.491676Z",
     "shell.execute_reply.started": "2025-02-05T17:38:48.462170Z"
    },
    "trusted": true
   },
   "outputs": [
    {
     "data": {
      "text/html": [
       "<style>#sk-container-id-16 {color: black;background-color: white;}#sk-container-id-16 pre{padding: 0;}#sk-container-id-16 div.sk-toggleable {background-color: white;}#sk-container-id-16 label.sk-toggleable__label {cursor: pointer;display: block;width: 100%;margin-bottom: 0;padding: 0.3em;box-sizing: border-box;text-align: center;}#sk-container-id-16 label.sk-toggleable__label-arrow:before {content: \"▸\";float: left;margin-right: 0.25em;color: #696969;}#sk-container-id-16 label.sk-toggleable__label-arrow:hover:before {color: black;}#sk-container-id-16 div.sk-estimator:hover label.sk-toggleable__label-arrow:before {color: black;}#sk-container-id-16 div.sk-toggleable__content {max-height: 0;max-width: 0;overflow: hidden;text-align: left;background-color: #f0f8ff;}#sk-container-id-16 div.sk-toggleable__content pre {margin: 0.2em;color: black;border-radius: 0.25em;background-color: #f0f8ff;}#sk-container-id-16 input.sk-toggleable__control:checked~div.sk-toggleable__content {max-height: 200px;max-width: 100%;overflow: auto;}#sk-container-id-16 input.sk-toggleable__control:checked~label.sk-toggleable__label-arrow:before {content: \"▾\";}#sk-container-id-16 div.sk-estimator input.sk-toggleable__control:checked~label.sk-toggleable__label {background-color: #d4ebff;}#sk-container-id-16 div.sk-label input.sk-toggleable__control:checked~label.sk-toggleable__label {background-color: #d4ebff;}#sk-container-id-16 input.sk-hidden--visually {border: 0;clip: rect(1px 1px 1px 1px);clip: rect(1px, 1px, 1px, 1px);height: 1px;margin: -1px;overflow: hidden;padding: 0;position: absolute;width: 1px;}#sk-container-id-16 div.sk-estimator {font-family: monospace;background-color: #f0f8ff;border: 1px dotted black;border-radius: 0.25em;box-sizing: border-box;margin-bottom: 0.5em;}#sk-container-id-16 div.sk-estimator:hover {background-color: #d4ebff;}#sk-container-id-16 div.sk-parallel-item::after {content: \"\";width: 100%;border-bottom: 1px solid gray;flex-grow: 1;}#sk-container-id-16 div.sk-label:hover label.sk-toggleable__label {background-color: #d4ebff;}#sk-container-id-16 div.sk-serial::before {content: \"\";position: absolute;border-left: 1px solid gray;box-sizing: border-box;top: 0;bottom: 0;left: 50%;z-index: 0;}#sk-container-id-16 div.sk-serial {display: flex;flex-direction: column;align-items: center;background-color: white;padding-right: 0.2em;padding-left: 0.2em;position: relative;}#sk-container-id-16 div.sk-item {position: relative;z-index: 1;}#sk-container-id-16 div.sk-parallel {display: flex;align-items: stretch;justify-content: center;background-color: white;position: relative;}#sk-container-id-16 div.sk-item::before, #sk-container-id-16 div.sk-parallel-item::before {content: \"\";position: absolute;border-left: 1px solid gray;box-sizing: border-box;top: 0;bottom: 0;left: 50%;z-index: -1;}#sk-container-id-16 div.sk-parallel-item {display: flex;flex-direction: column;z-index: 1;position: relative;background-color: white;}#sk-container-id-16 div.sk-parallel-item:first-child::after {align-self: flex-end;width: 50%;}#sk-container-id-16 div.sk-parallel-item:last-child::after {align-self: flex-start;width: 50%;}#sk-container-id-16 div.sk-parallel-item:only-child::after {width: 0;}#sk-container-id-16 div.sk-dashed-wrapped {border: 1px dashed gray;margin: 0 0.4em 0.5em 0.4em;box-sizing: border-box;padding-bottom: 0.4em;background-color: white;}#sk-container-id-16 div.sk-label label {font-family: monospace;font-weight: bold;display: inline-block;line-height: 1.2em;}#sk-container-id-16 div.sk-label-container {text-align: center;}#sk-container-id-16 div.sk-container {/* jupyter's `normalize.less` sets `[hidden] { display: none; }` but bootstrap.min.css set `[hidden] { display: none !important; }` so we also need the `!important` here to be able to override the default hidden behavior on the sphinx rendered scikit-learn.org. See: https://github.com/scikit-learn/scikit-learn/issues/21755 */display: inline-block !important;position: relative;}#sk-container-id-16 div.sk-text-repr-fallback {display: none;}</style><div id=\"sk-container-id-16\" class=\"sk-top-container\"><div class=\"sk-text-repr-fallback\"><pre>LogisticRegression(class_weight={0: 1, 1: 1.12})</pre><b>In a Jupyter environment, please rerun this cell to show the HTML representation or trust the notebook. <br />On GitHub, the HTML representation is unable to render, please try loading this page with nbviewer.org.</b></div><div class=\"sk-container\" hidden><div class=\"sk-item\"><div class=\"sk-estimator sk-toggleable\"><input class=\"sk-toggleable__control sk-hidden--visually\" id=\"sk-estimator-id-16\" type=\"checkbox\" checked><label for=\"sk-estimator-id-16\" class=\"sk-toggleable__label sk-toggleable__label-arrow\">LogisticRegression</label><div class=\"sk-toggleable__content\"><pre>LogisticRegression(class_weight={0: 1, 1: 1.12})</pre></div></div></div></div></div>"
      ],
      "text/plain": [
       "LogisticRegression(class_weight={0: 1, 1: 1.12})"
      ]
     },
     "execution_count": 146,
     "metadata": {},
     "output_type": "execute_result"
    }
   ],
   "source": [
    "from sklearn.linear_model import LogisticRegression\n",
    "\n",
    "model = LogisticRegression(class_weight={0: 1, 1: 1.1})  \n",
    "model.fit(df[['Tumor_Interaction',\"Tumor_Size\", \"Positive_Axillary_Nodes\",'Treatment_Combination']], y)"
   ]
  },
  {
   "cell_type": "code",
   "execution_count": 147,
   "metadata": {
    "execution": {
     "iopub.execute_input": "2025-02-05T17:38:50.771204Z",
     "iopub.status.busy": "2025-02-05T17:38:50.770867Z",
     "iopub.status.idle": "2025-02-05T17:38:50.778357Z",
     "shell.execute_reply": "2025-02-05T17:38:50.777172Z",
     "shell.execute_reply.started": "2025-02-05T17:38:50.771176Z"
    },
    "trusted": true
   },
   "outputs": [],
   "source": [
    "yy= model.predict(test[['Tumor_Interaction',\"Tumor_Size\", \"Positive_Axillary_Nodes\",'Treatment_Combination']])\n"
   ]
  },
  {
   "cell_type": "code",
   "execution_count": 148,
   "metadata": {
    "execution": {
     "iopub.execute_input": "2025-02-05T17:38:52.361139Z",
     "iopub.status.busy": "2025-02-05T17:38:52.360790Z",
     "iopub.status.idle": "2025-02-05T17:38:52.369070Z",
     "shell.execute_reply": "2025-02-05T17:38:52.368005Z",
     "shell.execute_reply.started": "2025-02-05T17:38:52.361110Z"
    },
    "trusted": true
   },
   "outputs": [
    {
     "data": {
      "text/plain": [
       "array([1, 1, 0, 1, 1, 0, 1, 1, 1, 1, 1, 1, 1, 1, 1, 0, 1, 0, 1, 1, 1, 1,\n",
       "       1, 1, 1, 1, 1, 1, 1, 0, 1, 1, 0, 1, 1, 0, 1, 0, 0, 1, 1, 0, 0, 1,\n",
       "       0, 1, 0, 1, 1, 1, 1, 0, 1, 1, 1, 1, 1, 0, 0, 1, 1, 1, 1, 0, 1, 1,\n",
       "       1, 0, 1, 1, 0, 1, 1, 0, 1, 1, 1, 1, 1, 0, 1, 1, 1, 0, 1, 0, 1, 0,\n",
       "       1, 1, 0, 1, 1, 1, 1, 0, 1, 1, 1, 0, 0, 1, 1, 1, 1, 0, 1, 0, 0, 0,\n",
       "       1, 1, 1, 1, 1, 1, 1, 0, 1, 1, 1, 0, 1, 1, 1, 1, 0, 0, 1, 0, 1, 0,\n",
       "       1, 1, 0, 1, 1, 1, 0, 0, 1, 1, 1, 1, 1, 1, 1, 1, 1, 1, 1, 0, 1, 1,\n",
       "       1, 1, 1, 1, 0, 0, 1, 1, 0, 0, 1, 1, 1, 1, 1, 0, 1, 1, 0, 1, 1, 1,\n",
       "       0, 0, 1, 1, 1, 0, 1, 1, 1, 1, 0, 1, 0, 1, 1, 0, 1, 0, 1, 1, 1, 1,\n",
       "       1, 0, 1, 1, 1, 0, 1, 1, 1, 1, 1, 1, 0, 1, 1, 1, 1, 1, 1, 1, 0, 0,\n",
       "       1, 0, 1, 1, 0, 1, 1, 1, 1, 1, 1, 1, 1, 1, 1, 0, 0, 1, 1, 1, 1, 1,\n",
       "       0, 1, 1, 0, 1, 1, 1, 1, 1, 0, 1, 1, 1, 1, 1, 0, 1, 0, 1, 1, 1, 1,\n",
       "       1, 0, 0, 1, 0, 1, 0, 1, 1, 1, 1, 0, 1, 0, 1, 1, 1, 1, 1, 1, 1, 0,\n",
       "       1, 0, 1, 1, 1, 1, 1, 1, 1, 1, 0, 0, 1, 1])"
      ]
     },
     "execution_count": 148,
     "metadata": {},
     "output_type": "execute_result"
    }
   ],
   "source": [
    "yy"
   ]
  },
  {
   "cell_type": "code",
   "execution_count": 149,
   "metadata": {
    "execution": {
     "iopub.execute_input": "2025-02-05T17:38:58.071354Z",
     "iopub.status.busy": "2025-02-05T17:38:58.071022Z",
     "iopub.status.idle": "2025-02-05T17:38:58.078303Z",
     "shell.execute_reply": "2025-02-05T17:38:58.077150Z",
     "shell.execute_reply.started": "2025-02-05T17:38:58.071324Z"
    },
    "trusted": true
   },
   "outputs": [],
   "source": [
    "sample['Survival_Status']=yy\n",
    "sample.to_csv(\"sample47.csv\",index=False)\n"
   ]
  },
  {
   "cell_type": "code",
   "execution_count": null,
   "metadata": {
    "trusted": true
   },
   "outputs": [],
   "source": []
  }
 ],
 "metadata": {
  "kaggle": {
   "accelerator": "none",
   "dataSources": [
    {
     "databundleVersionId": 10967315,
     "sourceId": 92155,
     "sourceType": "competition"
    }
   ],
   "dockerImageVersionId": 30839,
   "isGpuEnabled": false,
   "isInternetEnabled": false,
   "language": "python",
   "sourceType": "notebook"
  },
  "kernelspec": {
   "display_name": "Python 3",
   "language": "python",
   "name": "python3"
  },
  "language_info": {
   "codemirror_mode": {
    "name": "ipython",
    "version": 3
   },
   "file_extension": ".py",
   "mimetype": "text/x-python",
   "name": "python",
   "nbconvert_exporter": "python",
   "pygments_lexer": "ipython3",
   "version": "3.10.12"
  }
 },
 "nbformat": 4,
 "nbformat_minor": 4
}
